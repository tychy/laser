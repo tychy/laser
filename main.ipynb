{
 "cells": [
  {
   "cell_type": "code",
   "execution_count": 1,
   "id": "25fe28af-4163-4b58-99b5-49814e0d5e7b",
   "metadata": {},
   "outputs": [],
   "source": [
    "import pyvisa\n",
    "import numpy as np\n",
    "import matplotlib.pyplot as plt\n",
    "import time\n",
    "MAX_COUNTER = 1000\n",
    "from tqdm.notebook import trange, tqdm"
   ]
  },
  {
   "cell_type": "code",
   "execution_count": 2,
   "id": "072d6592-688e-469a-a255-20965f746967",
   "metadata": {},
   "outputs": [],
   "source": [
    "rm = pyvisa.ResourceManager()\n",
    "dmm =  rm.open_resource(\"TCPIP::192.168.1.248::INSTR\")\n",
    "dmm.read_termination = '\\n'\n",
    "dmm.write_termination = '\\n'"
   ]
  },
  {
   "cell_type": "code",
   "execution_count": 3,
   "id": "962f2b5f-803e-4582-b376-77df6463ad63",
   "metadata": {},
   "outputs": [
    {
     "name": "stdout",
     "output_type": "stream",
     "text": [
      "Connected to TEKTRONIX,MDO3054,C012266,CF:91.1CT FV:v1.10\n"
     ]
    }
   ],
   "source": [
    "idn = dmm.query('*IDN?')\n",
    "print(\"Connected to \" + idn)"
   ]
  },
  {
   "cell_type": "code",
   "execution_count": 4,
   "id": "b42ecce5-a535-4c83-bb0f-0f96f9436e10",
   "metadata": {},
   "outputs": [],
   "source": [
    "trig_ch = 2\n",
    "delay_ch = 1\n",
    "trig_v = 2.0\n",
    "trig_v_scale = 5.0\n",
    "trig_v_time_scale = 800#E-9"
   ]
  },
  {
   "cell_type": "code",
   "execution_count": 5,
   "id": "dc36eeb4-a788-43d0-a6d3-901cfd546b5b",
   "metadata": {},
   "outputs": [
    {
     "data": {
      "text/plain": [
       "27"
      ]
     },
     "execution_count": 5,
     "metadata": {},
     "output_type": "execute_result"
    }
   ],
   "source": [
    "dmm.write(\"*rst; status:preset; *cls\")\n",
    "dmm.write(\":HORizontal:SCAle {}E-9\".format(trig_v_time_scale))\n",
    "dmm.write(\":SELect:CH{} 1\".format(trig_ch))\n",
    "dmm.write(\":SELect:CH{} 1\".format(delay_ch))\n",
    "dmm.write(\"CH{}:SCAle 5\".format(trig_ch))\n",
    "dmm.write(\"CH{}:SCAle 5\".format(delay_ch))\n",
    "dmm.write(\":TRIGger:A:TYPe EDGE\")\n",
    "dmm.write(\":TRIGger:A:EDGE:SOUrce CH{}\".format(trig_ch))\n",
    "dmm.write(\":TRIGger:A:EDGE:SOUrce CH{}\".format(delay_ch))\n",
    "dmm.write(\":TRIGger:A:THReshold:CH{} {}\".format(trig_ch, trig_v))\n",
    "dmm.write(\":TRIGger:A:THReshold:CH{} {}\".format(delay_ch, trig_v))\n",
    "dmm.write(\":TRIGger:A:EDGE:SLOpe RISe\")"
   ]
  },
  {
   "cell_type": "code",
   "execution_count": 6,
   "id": "ecafc2fe-3408-475e-a7ed-fcb2bd040f06",
   "metadata": {},
   "outputs": [
    {
     "data": {
      "text/plain": [
       "29"
      ]
     },
     "execution_count": 6,
     "metadata": {},
     "output_type": "execute_result"
    }
   ],
   "source": [
    "dmm.write(\"MEASUrement:IMMed:DELay:DIRection FORWARDS\")\n",
    "dmm.write(\"MEASurement:DELay CH{},CH{}\".format(trig_ch, delay_ch))\n",
    "dmm.write(\"MEASurement:IMMed:TYPe DELay\")"
   ]
  },
  {
   "cell_type": "code",
   "execution_count": 7,
   "id": "a2bf57da-d04a-4984-bb2e-bc3e055ebf88",
   "metadata": {},
   "outputs": [
    {
     "name": "stdout",
     "output_type": "stream",
     "text": [
      "FORWARDS;RISE;RISE\n"
     ]
    }
   ],
   "source": [
    "print(dmm.query('MEASUrement:IMMed:DELay?'))"
   ]
  },
  {
   "cell_type": "code",
   "execution_count": 8,
   "id": "53fceadd-4c10-4108-b679-713821073f42",
   "metadata": {},
   "outputs": [
    {
     "data": {
      "application/vnd.jupyter.widget-view+json": {
       "model_id": "6489e00ac4374e6496db2c8e09a09579",
       "version_major": 2,
       "version_minor": 0
      },
      "text/plain": [
       "  0%|          | 0/1000 [00:00<?, ?it/s]"
      ]
     },
     "metadata": {},
     "output_type": "display_data"
    }
   ],
   "source": [
    "ls = []\n",
    "for _ in trange(MAX_COUNTER):\n",
    "    data = dmm.query('MEASurement:IMMed:VALue?')\n",
    "    #print(data)\n",
    "    ls.append(data)\n",
    "    time.sleep(0.1)"
   ]
  },
  {
   "cell_type": "code",
   "execution_count": null,
   "id": "38839fa3-9120-4c63-b77b-724d4ed60149",
   "metadata": {},
   "outputs": [
    {
     "data": {
      "text/plain": [
       "(array([  2.,  12.,  50., 118., 133., 174., 237., 174.,  80.,  20.]),\n",
       " array([-8.260e-07, -8.252e-07, -8.244e-07, -8.236e-07, -8.228e-07,\n",
       "        -8.220e-07, -8.212e-07, -8.204e-07, -8.196e-07, -8.188e-07,\n",
       "        -8.180e-07]),\n",
       " <BarContainer object of 10 artists>)"
      ]
     },
     "execution_count": 17,
     "metadata": {},
     "output_type": "execute_result"
    },
    {
     "data": {
      "image/png": "[encoded data removed]",
      "text/plain": [
       "<Figure size 432x288 with 1 Axes>"
      ]
     },
     "metadata": {
      "needs_background": "light"
     },
     "output_type": "display_data"
    }
   ],
   "source": [
    "data_np = np.array(ls).astype(np.double)\n",
    "plt.plot(data_np)"
   ]
  },
  {
   "cell_type": "code",
   "execution_count": null,
   "id": "c1bc6f0a-4ebc-4851-887f-8e0d42eba03c",
   "metadata": {},
   "outputs": [],
   "source": []
  }
 ],
 "metadata": {
  "kernelspec": {
   "display_name": "Python 3 (ipykernel)",
   "language": "python",
   "name": "python3"
  },
  "language_info": {
   "codemirror_mode": {
    "name": "ipython",
    "version": 3
   },
   "file_extension": ".py",
   "mimetype": "text/x-python",
   "name": "python",
   "nbconvert_exporter": "python",
   "pygments_lexer": "ipython3",
   "version": "3.8.11"
  }
 },
 "nbformat": 4,
 "nbformat_minor": 5
}
